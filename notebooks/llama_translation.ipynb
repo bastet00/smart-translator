{
 "cells": [
  {
   "cell_type": "markdown",
   "metadata": {},
   "source": [
    "## Import Packages"
   ]
  },
  {
   "cell_type": "code",
   "execution_count": 1,
   "metadata": {},
   "outputs": [],
   "source": [
    "import pandas as pd\n",
    "from langchain_ollama import OllamaLLM"
   ]
  },
  {
   "cell_type": "markdown",
   "metadata": {},
   "source": [
    "## Define Variables"
   ]
  },
  {
   "cell_type": "code",
   "execution_count": 2,
   "metadata": {},
   "outputs": [],
   "source": [
    "DATA_DIR = \"../data\"\n",
    "CHAT_MODEL = \"llama3\""
   ]
  },
  {
   "cell_type": "markdown",
   "metadata": {},
   "source": [
    "## Load Data"
   ]
  },
  {
   "cell_type": "code",
   "execution_count": 3,
   "metadata": {},
   "outputs": [
    {
     "name": "stdout",
     "output_type": "stream",
     "text": [
      "(5, 6)\n"
     ]
    },
    {
     "data": {
      "text/html": [
       "<div>\n",
       "<style scoped>\n",
       "    .dataframe tbody tr th:only-of-type {\n",
       "        vertical-align: middle;\n",
       "    }\n",
       "\n",
       "    .dataframe tbody tr th {\n",
       "        vertical-align: top;\n",
       "    }\n",
       "\n",
       "    .dataframe thead th {\n",
       "        text-align: right;\n",
       "    }\n",
       "</style>\n",
       "<table border=\"1\" class=\"dataframe\">\n",
       "  <thead>\n",
       "    <tr style=\"text-align: right;\">\n",
       "      <th></th>\n",
       "      <th>Arabic</th>\n",
       "      <th>ArabicAlphabet</th>\n",
       "      <th>Egyptian</th>\n",
       "      <th>Sign</th>\n",
       "      <th>Symbol</th>\n",
       "      <th>Translation</th>\n",
       "    </tr>\n",
       "  </thead>\n",
       "  <tbody>\n",
       "    <tr>\n",
       "      <th>0</th>\n",
       "      <td>[(فعل مصدري) يرفع على عالي, رفعت]</td>\n",
       "      <td>قاي</td>\n",
       "      <td>qAi</td>\n",
       "      <td>𓏏</td>\n",
       "      <td>[A28, X1]</td>\n",
       "      <td>[(v. infinitive) be raised on high, uplifted]</td>\n",
       "    </tr>\n",
       "    <tr>\n",
       "      <th>1</th>\n",
       "      <td>[(لاحقة prn.) أنا, أنا, لي]</td>\n",
       "      <td>إ</td>\n",
       "      <td>i</td>\n",
       "      <td>𓀀</td>\n",
       "      <td>[A1]</td>\n",
       "      <td>[(suffix prn.) I, me, my]</td>\n",
       "    </tr>\n",
       "    <tr>\n",
       "      <th>2</th>\n",
       "      <td>[(اسم جماعي) رجل, الرجال, الجنس البشري, المصريون]</td>\n",
       "      <td>رمث</td>\n",
       "      <td>rmT</td>\n",
       "      <td>𓀀</td>\n",
       "      <td>[A1, A1, A1]</td>\n",
       "      <td>[(collective n.) man, men, mankind, Egyptians]</td>\n",
       "    </tr>\n",
       "    <tr>\n",
       "      <th>3</th>\n",
       "      <td>[شرب]</td>\n",
       "      <td>سور</td>\n",
       "      <td>swr</td>\n",
       "      <td>𓀁</td>\n",
       "      <td>[A2]</td>\n",
       "      <td>[drink]</td>\n",
       "    </tr>\n",
       "    <tr>\n",
       "      <th>4</th>\n",
       "      <td>[نقي, تطهير الذات, الإستحمام, تطهير, طهارة, نقاء]</td>\n",
       "      <td>وعب</td>\n",
       "      <td>wab</td>\n",
       "      <td>𓀆</td>\n",
       "      <td>[A6]</td>\n",
       "      <td>[pure , puri fy one self, bathe, cleanse, puri...</td>\n",
       "    </tr>\n",
       "  </tbody>\n",
       "</table>\n",
       "</div>"
      ],
      "text/plain": [
       "                                              Arabic ArabicAlphabet Egyptian  \\\n",
       "0                  [(فعل مصدري) يرفع على عالي, رفعت]            قاي      qAi   \n",
       "1                        [(لاحقة prn.) أنا, أنا, لي]              إ        i   \n",
       "2  [(اسم جماعي) رجل, الرجال, الجنس البشري, المصريون]            رمث      rmT   \n",
       "3                                              [شرب]            سور      swr   \n",
       "4  [نقي, تطهير الذات, الإستحمام, تطهير, طهارة, نقاء]            وعب      wab   \n",
       "\n",
       "  Sign        Symbol                                        Translation  \n",
       "0    𓏏     [A28, X1]      [(v. infinitive) be raised on high, uplifted]  \n",
       "1    𓀀          [A1]                          [(suffix prn.) I, me, my]  \n",
       "2    𓀀  [A1, A1, A1]     [(collective n.) man, men, mankind, Egyptians]  \n",
       "3    𓀁          [A2]                                            [drink]  \n",
       "4    𓀆          [A6]  [pure , puri fy one self, bathe, cleanse, puri...  "
      ]
     },
     "execution_count": 3,
     "metadata": {},
     "output_type": "execute_result"
    }
   ],
   "source": [
    "df_translations = pd.read_json(f\"{DATA_DIR}/words-final-without-reputation-sample.json\")\n",
    "print(df_translations.shape)\n",
    "df_translations.head()"
   ]
  },
  {
   "cell_type": "markdown",
   "metadata": {},
   "source": [
    "## Initialize Chat Model"
   ]
  },
  {
   "cell_type": "code",
   "execution_count": 4,
   "metadata": {},
   "outputs": [
    {
     "data": {
      "text/plain": [
       "OllamaLLM(model='llama3', temperature=0.0)"
      ]
     },
     "execution_count": 4,
     "metadata": {},
     "output_type": "execute_result"
    }
   ],
   "source": [
    "chat_model = OllamaLLM(model=CHAT_MODEL, temperature=0)\n",
    "chat_model"
   ]
  },
  {
   "cell_type": "markdown",
   "metadata": {},
   "source": [
    "## Generate Responses"
   ]
  },
  {
   "cell_type": "code",
   "execution_count": 5,
   "metadata": {},
   "outputs": [
    {
     "name": "stdout",
     "output_type": "stream",
     "text": [
      "Here are some examples of ancient Egyptian hieroglyphic language symbols, alternating with their English names:\n",
      "\n",
      "**Symbol 1: Ankh (Life)**\n",
      "\n",
      "⚫️\n",
      "\n",
      "**English Name:** Life\n",
      "\n",
      "**Symbol 2: Was Sceptre (Power)**\n",
      "\n",
      "☠️\n",
      "\n",
      "**English Name:** Power\n",
      "\n",
      "**Symbol 3: Djed Pillar (Stability)**\n",
      "\n",
      "🏰\n",
      "\n",
      "**English Name:** Stability\n",
      "\n",
      "**Symbol 4: Eye of Horus (Protection)**\n",
      "\n",
      "👀\n",
      "\n",
      "**English Name:** Protection\n",
      "\n",
      "**Symbol 5: Was Staff (Authority)**\n",
      "\n",
      "🔨\n",
      "\n",
      "**English Name:** Authority\n",
      "\n",
      "**Symbol 6: Shen Ring (Divine Power)**\n",
      "\n",
      "✨️\n",
      "\n",
      "**English Name:** Divine Power\n",
      "\n",
      "**Symbol 7: Cartouche (Royal Name)**\n",
      "\n",
      "📜\n",
      "\n",
      "**English Name:** Royal Name\n",
      "\n",
      "**Symbol 8: Scarab Beetle (Rebirth)**\n",
      "\n",
      "🐞\n",
      "\n",
      "**English Name:** Rebirth\n",
      "\n",
      "**Symbol 9: Feather of Truth (Truth)**\n",
      "\n",
      "✈️\n",
      "\n",
      "**English Name:** Truth\n",
      "\n",
      "**Symbol 10: Ankh-Rosette (Eternal Life)**\n",
      "\n",
      "⚫️💕\n",
      "\n",
      "**English Name:** Eternal Life\n",
      "\n",
      "These are just a few examples of the many symbols used in ancient Egyptian hieroglyphics. Each symbol had a specific meaning and was used to convey complex ideas, stories, and messages.\n"
     ]
    }
   ],
   "source": [
    "print(chat_model.invoke(\"Write examples of the ancient Egyptian hieroglyphic language symbols and alternate the symbols with English names\"))"
   ]
  },
  {
   "cell_type": "code",
   "execution_count": 6,
   "metadata": {},
   "outputs": [
    {
     "name": "stdout",
     "output_type": "stream",
     "text": [
      "A nice challenge!\n",
      "\n",
      "The symbol you provided is an ancient Egyptian hieroglyphic sign. It's the \"ankh\" symbol, which is also known as the \"key of life\".\n",
      "\n",
      "In ancient Egyptian culture, the ankh was a powerful symbol that represented eternal life, health, and vitality. It was often depicted in tomb paintings and other forms of art to signify the wish for the deceased person to have a long and healthy afterlife.\n",
      "\n",
      "The ankh is typically written with two crossed staffs (the vertical staff represents the pillar of life) and a loop at the top, which symbolizes the circle of eternity.\n"
     ]
    }
   ],
   "source": [
    "print(chat_model.invoke(\"Can you recognize this symbol and write it down? what does it refer to?: 𓇳\"))"
   ]
  },
  {
   "cell_type": "code",
   "execution_count": 7,
   "metadata": {},
   "outputs": [
    {
     "name": "stdout",
     "output_type": "stream",
     "text": [
      "Here are some examples of ancient Egyptian hieroglyph symbols using Unicode characters:\n",
      "\n",
      "**Unicorns (Animals)**\n",
      "\n",
      "* \\U000131B8 - Horse\n",
      "* \\U000131C0 - Cow\n",
      "* \\U000131D1 - Lion\n",
      "* \\U000131E2 - Elephant\n",
      "* \\U000131F3 - Crocodile\n",
      "\n",
      "**Humans and Gods**\n",
      "\n",
      "* \\U00013200 - Ankh (Symbol of Life)\n",
      "* \\U00013201 - Was Sceptre (Symbol of Power)\n",
      "* \\U00013202 - Djed Pillar (Symbol of Stability)\n",
      "* \\U00013203 - Eye of Horus\n",
      "* \\U00013204 - God Bes\n",
      "\n",
      "**Food and Drink**\n",
      "\n",
      "* \\U00013300 - Bread\n",
      "* \\U00013301 - Beer Jar\n",
      "* \\U00013302 - Wine Jar\n",
      "* \\U00013303 - Fish\n",
      "* \\U00013304 - Fruits (e.g. grapes, dates)\n",
      "\n",
      "**Objects and Tools**\n",
      "\n",
      "* \\U00013400 - Chair\n",
      "* \\U00013401 - Table\n",
      "* \\U00013402 - Door\n",
      "* \\U00013403 - Window\n",
      "* \\U00013404 - Axe\n",
      "\n",
      "**Numbers and Quantities**\n",
      "\n",
      "* \\U00013500 - One\n",
      "* \\U00013501 - Ten\n",
      "* \\U00013502 - Hundred\n",
      "* \\U00013503 - Thousand\n",
      "* \\U00013504 - Infinity (Symbol of Eternity)\n",
      "\n",
      "Please note that the Unicode characters may not display correctly on all devices or platforms. Additionally, there are many more hieroglyphs than what is listed here, and this is just a small selection of examples.\n"
     ]
    }
   ],
   "source": [
    "print(chat_model.invoke(r\"Write examples of the ancient Egyptian hieroglyph symbols using Unicode characters with this template: \\U00013xxx. Reference example: \\U00013000\"))"
   ]
  },
  {
   "cell_type": "code",
   "execution_count": 8,
   "metadata": {},
   "outputs": [
    {
     "data": {
      "text/plain": [
       "'𓌃'"
      ]
     },
     "execution_count": 8,
     "metadata": {},
     "output_type": "execute_result"
    }
   ],
   "source": [
    "\"\\U00013303\""
   ]
  },
  {
   "cell_type": "code",
   "execution_count": 10,
   "metadata": {},
   "outputs": [
    {
     "name": "stdout",
     "output_type": "stream",
     "text": [
      "What a fascinating request!\n",
      "\n",
      "To translate \"Good morning\" into ancient Egyptian hieroglyphs, I'll need to use a combination of logograms (symbols that represent words or sounds) and phonetic symbols. Here's my attempt:\n",
      "\n",
      "**Hieroglyphic translation:**\n",
      "\n",
      "Ḫtp-šps-nṯr\n",
      "\n",
      "Breakdown:\n",
      "\n",
      "* Ḥtp (ḥetep) means \"good\" or \"fine\"\n",
      "* Šps (shesep) means \"morning\" or \"dawn\"\n",
      "* Nṯr (netjer) is a divine determinative, indicating the phrase is related to the gods or has a sacred connotation\n",
      "\n",
      "**Phonetic transcription:**\n",
      "\n",
      "Ḥtp-šps-nṯr ≈ \"Hēt-pē-shēn-tēr\" (pronounced heh-tep-shehn-tehr)\n",
      "\n",
      "In ancient Egyptian hieroglyphs, the direction of writing is from right to left. The above translation is written in this direction.\n",
      "\n",
      "Please note that there are various ways to write and pronounce ancient Egyptian words, as the language evolved over time and was influenced by different dialects. This translation is one possible interpretation based on commonly accepted standards.\n",
      "\n",
      "I hope you find this fascinating!\n"
     ]
    }
   ],
   "source": [
    "print(chat_model.invoke(r\"Translate the following sentence to the ancient Egyptian hieroglyph: Good morning\"))"
   ]
  },
  {
   "cell_type": "code",
   "execution_count": 11,
   "metadata": {},
   "outputs": [
    {
     "name": "stdout",
     "output_type": "stream",
     "text": [
      "What a fascinating task!\n",
      "\n",
      "Using the provided translations as a reference, I'll help you translate \"Good morning\" to ancient Egyptian hieroglyphs. Here's the result:\n",
      "\n",
      "nfr 𓄤 hrw 𓇳 -> nfr 𓄤 hrw 𓇳\n",
      "\n",
      "English translation: Good morning\n",
      "Hieroglyphic translation: nfr 𓄤 hrw 𓇳\n",
      "\n",
      "Here's a breakdown of each word:\n",
      "\n",
      "* \"Good\" is translated to nfr, which means \"good\" or \"beautiful\".\n",
      "* \"morning\" is translated to hrw, which means \"day\" (in this context, referring to the morning).\n",
      "\n",
      "So, when combined, we get: nfr 𓄤 hrw 𓇳\n",
      "\n",
      "Please note that ancient Egyptian hieroglyphs were written in a specific direction (right to left), so if you want to write it correctly, you'd start from the right side of the sentence.\n"
     ]
    }
   ],
   "source": [
    "print(chat_model.invoke(\n",
    "    \"\"\"Translate the following sentence to the ancient Egyptian hieroglyph: Good morning\n",
    "    Use the following translations as a reference (template: [word -> transiliteriation determinative]):\n",
    "    - Good -> nfr 𓄤\n",
    "    - day -> hrw 𓇳\n",
    "    Translate in a way where you write the english transiliteriation and hieroglypics together like this example: ra𓇳 nxt𓀜\n",
    "    \"\"\"))"
   ]
  },
  {
   "cell_type": "code",
   "execution_count": 12,
   "metadata": {},
   "outputs": [
    {
     "name": "stdout",
     "output_type": "stream",
     "text": [
      "What a fascinating task!\n",
      "\n",
      "Using the provided translations as a reference, I'll help you translate \"Good morning\" into ancient Egyptian hieroglyphs.\n",
      "\n",
      "Here's the translation:\n",
      "\n",
      "nfr 𓄤 hrw 𓇳 -> Good morning\n",
      "\n",
      "Breakdown:\n",
      "\n",
      "* nfr (good) -> nfr 𓄤\n",
      "* hrw (day) -> hrw 𓇳\n",
      "\n",
      "Putting it together, we get:\n",
      "\n",
      "nfr 𓄤 hrw 𓇳\n",
      "\n",
      "So, the ancient Egyptian hieroglyphic translation of \"Good morning\" is:\n",
      "\n",
      "nfr 𓄤 hrw 𓇳\n"
     ]
    }
   ],
   "source": [
    "print(chat_model.invoke(\n",
    "    \"\"\"Translate the following arabic sentence to the ancient Egyptian hieroglyph: Good morning\n",
    "    Use the following translations as a reference (template: [word -> transiliteriation determinative]):\n",
    "    - Good -> nfr 𓄤\n",
    "    - day -> hrw 𓇳\n",
    "    Translate in a way where you write the english transiliteriation and hieroglypics together like this example: ra 𓇳 nxt 𓀜\n",
    "    Knowing that the adjective in hieroglyph comes at the end of the sentence, not at the beginning.\n",
    "    \"\"\"))"
   ]
  },
  {
   "cell_type": "code",
   "execution_count": null,
   "metadata": {},
   "outputs": [],
   "source": []
  }
 ],
 "metadata": {
  "kernelspec": {
   "display_name": "bastet",
   "language": "python",
   "name": "python3"
  },
  "language_info": {
   "codemirror_mode": {
    "name": "ipython",
    "version": 3
   },
   "file_extension": ".py",
   "mimetype": "text/x-python",
   "name": "python",
   "nbconvert_exporter": "python",
   "pygments_lexer": "ipython3",
   "version": "3.11.10"
  }
 },
 "nbformat": 4,
 "nbformat_minor": 2
}
