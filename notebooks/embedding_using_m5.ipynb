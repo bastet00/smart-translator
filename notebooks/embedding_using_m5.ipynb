{
 "cells": [
  {
   "cell_type": "code",
   "execution_count": 1,
   "metadata": {},
   "outputs": [
    {
     "name": "stdout",
     "output_type": "stream",
     "text": [
      "Collecting gradio_client\n",
      "  Downloading gradio_client-1.7.2-py3-none-any.whl (322 kB)\n",
      "\u001b[2K     \u001b[90m━━━━━━━━━━━━━━━━━━━━━━━━━━━━━━━━━━━━━━━\u001b[0m \u001b[32m322.1/322.1 KB\u001b[0m \u001b[31m3.2 MB/s\u001b[0m eta \u001b[36m0:00:00\u001b[0ma \u001b[36m0:00:01\u001b[0m\n",
      "\u001b[?25hRequirement already satisfied: typing-extensions~=4.0 in /home/amro/Documents/bastet/smart-translator/venv/lib/python3.10/site-packages (from gradio_client) (4.12.2)\n",
      "Requirement already satisfied: huggingface-hub>=0.19.3 in /home/amro/Documents/bastet/smart-translator/venv/lib/python3.10/site-packages (from gradio_client) (0.29.1)\n",
      "Requirement already satisfied: fsspec in /home/amro/Documents/bastet/smart-translator/venv/lib/python3.10/site-packages (from gradio_client) (2025.2.0)\n",
      "Requirement already satisfied: httpx>=0.24.1 in /home/amro/Documents/bastet/smart-translator/venv/lib/python3.10/site-packages (from gradio_client) (0.28.1)\n",
      "Requirement already satisfied: packaging in /home/amro/Documents/bastet/smart-translator/venv/lib/python3.10/site-packages (from gradio_client) (24.1)\n",
      "Requirement already satisfied: websockets<16.0,>=10.0 in /home/amro/Documents/bastet/smart-translator/venv/lib/python3.10/site-packages (from gradio_client) (14.2)\n",
      "Requirement already satisfied: certifi in /home/amro/Documents/bastet/smart-translator/venv/lib/python3.10/site-packages (from httpx>=0.24.1->gradio_client) (2024.8.30)\n",
      "Requirement already satisfied: idna in /home/amro/Documents/bastet/smart-translator/venv/lib/python3.10/site-packages (from httpx>=0.24.1->gradio_client) (3.10)\n",
      "Requirement already satisfied: anyio in /home/amro/Documents/bastet/smart-translator/venv/lib/python3.10/site-packages (from httpx>=0.24.1->gradio_client) (4.6.2.post1)\n",
      "Requirement already satisfied: httpcore==1.* in /home/amro/Documents/bastet/smart-translator/venv/lib/python3.10/site-packages (from httpx>=0.24.1->gradio_client) (1.0.6)\n",
      "Requirement already satisfied: h11<0.15,>=0.13 in /home/amro/Documents/bastet/smart-translator/venv/lib/python3.10/site-packages (from httpcore==1.*->httpx>=0.24.1->gradio_client) (0.14.0)\n",
      "Requirement already satisfied: filelock in /home/amro/Documents/bastet/smart-translator/venv/lib/python3.10/site-packages (from huggingface-hub>=0.19.3->gradio_client) (3.17.0)\n",
      "Requirement already satisfied: pyyaml>=5.1 in /home/amro/Documents/bastet/smart-translator/venv/lib/python3.10/site-packages (from huggingface-hub>=0.19.3->gradio_client) (6.0.2)\n",
      "Requirement already satisfied: tqdm>=4.42.1 in /home/amro/Documents/bastet/smart-translator/venv/lib/python3.10/site-packages (from huggingface-hub>=0.19.3->gradio_client) (4.67.1)\n",
      "Requirement already satisfied: requests in /home/amro/Documents/bastet/smart-translator/venv/lib/python3.10/site-packages (from huggingface-hub>=0.19.3->gradio_client) (2.32.3)\n",
      "Requirement already satisfied: exceptiongroup>=1.0.2 in /home/amro/Documents/bastet/smart-translator/venv/lib/python3.10/site-packages (from anyio->httpx>=0.24.1->gradio_client) (1.2.2)\n",
      "Requirement already satisfied: sniffio>=1.1 in /home/amro/Documents/bastet/smart-translator/venv/lib/python3.10/site-packages (from anyio->httpx>=0.24.1->gradio_client) (1.3.1)\n",
      "Requirement already satisfied: urllib3<3,>=1.21.1 in /home/amro/Documents/bastet/smart-translator/venv/lib/python3.10/site-packages (from requests->huggingface-hub>=0.19.3->gradio_client) (2.2.3)\n",
      "Requirement already satisfied: charset-normalizer<4,>=2 in /home/amro/Documents/bastet/smart-translator/venv/lib/python3.10/site-packages (from requests->huggingface-hub>=0.19.3->gradio_client) (3.4.0)\n",
      "Installing collected packages: gradio_client\n",
      "Successfully installed gradio_client-1.7.2\n"
     ]
    }
   ],
   "source": [
    "!pip install gradio_client\n"
   ]
  },
  {
   "cell_type": "code",
   "execution_count": 21,
   "metadata": {},
   "outputs": [
    {
     "name": "stdout",
     "output_type": "stream",
     "text": [
      "Loaded as API: https://amro00-intfloat-multilingual-e5-large.hf.space ✔\n"
     ]
    },
    {
     "ename": "ValueError",
     "evalue": "Cannot find a function with `api_name`: /predict.",
     "output_type": "error",
     "traceback": [
      "\u001b[0;31m---------------------------------------------------------------------------\u001b[0m",
      "\u001b[0;31mValueError\u001b[0m                                Traceback (most recent call last)",
      "Cell \u001b[0;32mIn[21], line 6\u001b[0m\n\u001b[1;32m      1\u001b[0m \u001b[38;5;28;01mfrom\u001b[39;00m \u001b[38;5;21;01mgradio_client\u001b[39;00m \u001b[38;5;28;01mimport\u001b[39;00m Client\n\u001b[1;32m      3\u001b[0m client \u001b[38;5;241m=\u001b[39m Client(\u001b[38;5;124m\"\u001b[39m\u001b[38;5;124mAmro00/intfloat-multilingual-e5-large\u001b[39m\u001b[38;5;124m\"\u001b[39m\n\u001b[1;32m      4\u001b[0m                 \u001b[38;5;66;03m# hf_token = \u001b[39;00m\n\u001b[1;32m      5\u001b[0m                 )\n\u001b[0;32m----> 6\u001b[0m result \u001b[38;5;241m=\u001b[39m \u001b[43mclient\u001b[49m\u001b[38;5;241;43m.\u001b[39;49m\u001b[43mpredict\u001b[49m\u001b[43m(\u001b[49m\n\u001b[1;32m      7\u001b[0m \u001b[43m  \u001b[49m\u001b[38;5;28;43;01mNone\u001b[39;49;00m\u001b[43m,\u001b[49m\n\u001b[1;32m      8\u001b[0m \u001b[43m  \u001b[49m\u001b[43m{\u001b[49m\u001b[43m \u001b[49m\u001b[38;5;124;43m\"\u001b[39;49m\u001b[38;5;124;43mInput\u001b[39;49m\u001b[38;5;124;43m\"\u001b[39;49m\u001b[43m:\u001b[49m\u001b[43m \u001b[49m\u001b[38;5;124;43m\"\u001b[39;49m\u001b[38;5;124;43mI am a sentence\u001b[39;49m\u001b[38;5;124;43m\"\u001b[39;49m\u001b[43m,\u001b[49m\u001b[43m \u001b[49m\u001b[38;5;124;43m\"\u001b[39;49m\u001b[38;5;124;43mreturn_type\u001b[39;49m\u001b[38;5;124;43m\"\u001b[39;49m\u001b[43m:\u001b[49m\u001b[43m \u001b[49m\u001b[38;5;124;43m\"\u001b[39;49m\u001b[38;5;124;43mint\u001b[39;49m\u001b[38;5;124;43m\"\u001b[39;49m\u001b[43m \u001b[49m\u001b[43m}\u001b[49m\u001b[43m,\u001b[49m\n\u001b[1;32m      9\u001b[0m \u001b[43m  \u001b[49m\u001b[43mapi_name\u001b[49m\u001b[38;5;241;43m=\u001b[39;49m\u001b[38;5;124;43m\"\u001b[39;49m\u001b[38;5;124;43m/predict\u001b[39;49m\u001b[38;5;124;43m\"\u001b[39;49m\n\u001b[1;32m     10\u001b[0m \u001b[43m)\u001b[49m\n\u001b[1;32m     11\u001b[0m \u001b[38;5;28mprint\u001b[39m(result)\n",
      "File \u001b[0;32m~/Documents/bastet/smart-translator/venv/lib/python3.10/site-packages/gradio_client/client.py:475\u001b[0m, in \u001b[0;36mClient.predict\u001b[0;34m(self, api_name, fn_index, *args, **kwargs)\u001b[0m\n\u001b[1;32m    453\u001b[0m \u001b[38;5;28;01mdef\u001b[39;00m \u001b[38;5;21mpredict\u001b[39m(\n\u001b[1;32m    454\u001b[0m     \u001b[38;5;28mself\u001b[39m,\n\u001b[1;32m    455\u001b[0m     \u001b[38;5;241m*\u001b[39margs,\n\u001b[0;32m   (...)\u001b[0m\n\u001b[1;32m    458\u001b[0m     \u001b[38;5;241m*\u001b[39m\u001b[38;5;241m*\u001b[39mkwargs,\n\u001b[1;32m    459\u001b[0m ) \u001b[38;5;241m-\u001b[39m\u001b[38;5;241m>\u001b[39m Any:\n\u001b[1;32m    460\u001b[0m \u001b[38;5;250m    \u001b[39m\u001b[38;5;124;03m\"\"\"\u001b[39;00m\n\u001b[1;32m    461\u001b[0m \u001b[38;5;124;03m    Calls the Gradio API and returns the result (this is a blocking call).\u001b[39;00m\n\u001b[1;32m    462\u001b[0m \n\u001b[0;32m   (...)\u001b[0m\n\u001b[1;32m    473\u001b[0m \u001b[38;5;124;03m        >> 9.0\u001b[39;00m\n\u001b[1;32m    474\u001b[0m \u001b[38;5;124;03m    \"\"\"\u001b[39;00m\n\u001b[0;32m--> 475\u001b[0m     \u001b[38;5;28;43mself\u001b[39;49m\u001b[38;5;241;43m.\u001b[39;49m\u001b[43m_infer_fn_index\u001b[49m\u001b[43m(\u001b[49m\u001b[43mapi_name\u001b[49m\u001b[43m,\u001b[49m\u001b[43m \u001b[49m\u001b[43mfn_index\u001b[49m\u001b[43m)\u001b[49m\n\u001b[1;32m    476\u001b[0m     \u001b[38;5;28;01mreturn\u001b[39;00m \u001b[38;5;28mself\u001b[39m\u001b[38;5;241m.\u001b[39msubmit(\n\u001b[1;32m    477\u001b[0m         \u001b[38;5;241m*\u001b[39margs, api_name\u001b[38;5;241m=\u001b[39mapi_name, fn_index\u001b[38;5;241m=\u001b[39mfn_index, \u001b[38;5;241m*\u001b[39m\u001b[38;5;241m*\u001b[39mkwargs\n\u001b[1;32m    478\u001b[0m     )\u001b[38;5;241m.\u001b[39mresult()\n",
      "File \u001b[0;32m~/Documents/bastet/smart-translator/venv/lib/python3.10/site-packages/gradio_client/client.py:831\u001b[0m, in \u001b[0;36mClient._infer_fn_index\u001b[0;34m(self, api_name, fn_index)\u001b[0m\n\u001b[1;32m    829\u001b[0m         \u001b[38;5;28;01mif\u001b[39;00m \u001b[38;5;129;01mnot\u001b[39;00m api_name\u001b[38;5;241m.\u001b[39mstartswith(\u001b[38;5;124m\"\u001b[39m\u001b[38;5;124m/\u001b[39m\u001b[38;5;124m\"\u001b[39m):\n\u001b[1;32m    830\u001b[0m             error_message \u001b[38;5;241m+\u001b[39m\u001b[38;5;241m=\u001b[39m \u001b[38;5;124m\"\u001b[39m\u001b[38;5;124m Did you mean to use a leading slash?\u001b[39m\u001b[38;5;124m\"\u001b[39m\n\u001b[0;32m--> 831\u001b[0m         \u001b[38;5;28;01mraise\u001b[39;00m \u001b[38;5;167;01mValueError\u001b[39;00m(error_message)\n\u001b[1;32m    832\u001b[0m \u001b[38;5;28;01melif\u001b[39;00m fn_index \u001b[38;5;129;01mis\u001b[39;00m \u001b[38;5;129;01mnot\u001b[39;00m \u001b[38;5;28;01mNone\u001b[39;00m:\n\u001b[1;32m    833\u001b[0m     inferred_fn_index \u001b[38;5;241m=\u001b[39m fn_index\n",
      "\u001b[0;31mValueError\u001b[0m: Cannot find a function with `api_name`: /predict."
     ]
    }
   ],
   "source": [
    "from gradio_client import Client\n",
    "\n",
    "client = Client(\"Amro00/intfloat-multilingual-e5-large\"\n",
    "                # hf_token = \n",
    "                )\n",
    "result = client.predict(\n",
    "  None,\n",
    "  { \"Input\": \"I am a sentence\", \"return_type\": \"int\" },\n",
    "  api_name=\"/predict\"\n",
    ")\n",
    "print(result)"
   ]
  },
  {
   "cell_type": "code",
   "execution_count": 12,
   "metadata": {},
   "outputs": [
    {
     "ename": "ValueError",
     "evalue": "Cannot find a function with `api_name`: /predict.",
     "output_type": "error",
     "traceback": [
      "\u001b[0;31m---------------------------------------------------------------------------\u001b[0m",
      "\u001b[0;31mValueError\u001b[0m                                Traceback (most recent call last)",
      "Cell \u001b[0;32mIn[12], line 1\u001b[0m\n\u001b[0;32m----> 1\u001b[0m \u001b[43mclient\u001b[49m\u001b[38;5;241;43m.\u001b[39;49m\u001b[43mpredict\u001b[49m\u001b[43m(\u001b[49m\n\u001b[1;32m      2\u001b[0m \u001b[43m    \u001b[49m\u001b[38;5;28;43;01mNone\u001b[39;49;00m\u001b[43m,\u001b[49m\n\u001b[1;32m      3\u001b[0m \u001b[43m    \u001b[49m\u001b[43mapi_name\u001b[49m\u001b[38;5;241;43m=\u001b[39;49m\u001b[38;5;124;43m\"\u001b[39;49m\u001b[38;5;124;43m/predict\u001b[39;49m\u001b[38;5;124;43m\"\u001b[39;49m\n\u001b[1;32m      4\u001b[0m \u001b[43m)\u001b[49m\n",
      "File \u001b[0;32m~/Documents/bastet/smart-translator/venv/lib/python3.10/site-packages/gradio_client/client.py:475\u001b[0m, in \u001b[0;36mClient.predict\u001b[0;34m(self, api_name, fn_index, *args, **kwargs)\u001b[0m\n\u001b[1;32m    453\u001b[0m \u001b[38;5;28;01mdef\u001b[39;00m \u001b[38;5;21mpredict\u001b[39m(\n\u001b[1;32m    454\u001b[0m     \u001b[38;5;28mself\u001b[39m,\n\u001b[1;32m    455\u001b[0m     \u001b[38;5;241m*\u001b[39margs,\n\u001b[0;32m   (...)\u001b[0m\n\u001b[1;32m    458\u001b[0m     \u001b[38;5;241m*\u001b[39m\u001b[38;5;241m*\u001b[39mkwargs,\n\u001b[1;32m    459\u001b[0m ) \u001b[38;5;241m-\u001b[39m\u001b[38;5;241m>\u001b[39m Any:\n\u001b[1;32m    460\u001b[0m \u001b[38;5;250m    \u001b[39m\u001b[38;5;124;03m\"\"\"\u001b[39;00m\n\u001b[1;32m    461\u001b[0m \u001b[38;5;124;03m    Calls the Gradio API and returns the result (this is a blocking call).\u001b[39;00m\n\u001b[1;32m    462\u001b[0m \n\u001b[0;32m   (...)\u001b[0m\n\u001b[1;32m    473\u001b[0m \u001b[38;5;124;03m        >> 9.0\u001b[39;00m\n\u001b[1;32m    474\u001b[0m \u001b[38;5;124;03m    \"\"\"\u001b[39;00m\n\u001b[0;32m--> 475\u001b[0m     \u001b[38;5;28;43mself\u001b[39;49m\u001b[38;5;241;43m.\u001b[39;49m\u001b[43m_infer_fn_index\u001b[49m\u001b[43m(\u001b[49m\u001b[43mapi_name\u001b[49m\u001b[43m,\u001b[49m\u001b[43m \u001b[49m\u001b[43mfn_index\u001b[49m\u001b[43m)\u001b[49m\n\u001b[1;32m    476\u001b[0m     \u001b[38;5;28;01mreturn\u001b[39;00m \u001b[38;5;28mself\u001b[39m\u001b[38;5;241m.\u001b[39msubmit(\n\u001b[1;32m    477\u001b[0m         \u001b[38;5;241m*\u001b[39margs, api_name\u001b[38;5;241m=\u001b[39mapi_name, fn_index\u001b[38;5;241m=\u001b[39mfn_index, \u001b[38;5;241m*\u001b[39m\u001b[38;5;241m*\u001b[39mkwargs\n\u001b[1;32m    478\u001b[0m     )\u001b[38;5;241m.\u001b[39mresult()\n",
      "File \u001b[0;32m~/Documents/bastet/smart-translator/venv/lib/python3.10/site-packages/gradio_client/client.py:831\u001b[0m, in \u001b[0;36mClient._infer_fn_index\u001b[0;34m(self, api_name, fn_index)\u001b[0m\n\u001b[1;32m    829\u001b[0m         \u001b[38;5;28;01mif\u001b[39;00m \u001b[38;5;129;01mnot\u001b[39;00m api_name\u001b[38;5;241m.\u001b[39mstartswith(\u001b[38;5;124m\"\u001b[39m\u001b[38;5;124m/\u001b[39m\u001b[38;5;124m\"\u001b[39m):\n\u001b[1;32m    830\u001b[0m             error_message \u001b[38;5;241m+\u001b[39m\u001b[38;5;241m=\u001b[39m \u001b[38;5;124m\"\u001b[39m\u001b[38;5;124m Did you mean to use a leading slash?\u001b[39m\u001b[38;5;124m\"\u001b[39m\n\u001b[0;32m--> 831\u001b[0m         \u001b[38;5;28;01mraise\u001b[39;00m \u001b[38;5;167;01mValueError\u001b[39;00m(error_message)\n\u001b[1;32m    832\u001b[0m \u001b[38;5;28;01melif\u001b[39;00m fn_index \u001b[38;5;129;01mis\u001b[39;00m \u001b[38;5;129;01mnot\u001b[39;00m \u001b[38;5;28;01mNone\u001b[39;00m:\n\u001b[1;32m    833\u001b[0m     inferred_fn_index \u001b[38;5;241m=\u001b[39m fn_index\n",
      "\u001b[0;31mValueError\u001b[0m: Cannot find a function with `api_name`: /predict."
     ]
    }
   ],
   "source": [
    "client.predict(\n",
    "    None,\n",
    "    api_name=\"/predict\"\n",
    ")"
   ]
  },
  {
   "cell_type": "code",
   "execution_count": null,
   "metadata": {},
   "outputs": [],
   "source": []
  }
 ],
 "metadata": {
  "kernelspec": {
   "display_name": "venv",
   "language": "python",
   "name": "python3"
  },
  "language_info": {
   "codemirror_mode": {
    "name": "ipython",
    "version": 3
   },
   "file_extension": ".py",
   "mimetype": "text/x-python",
   "name": "python",
   "nbconvert_exporter": "python",
   "pygments_lexer": "ipython3",
   "version": "3.10.12"
  }
 },
 "nbformat": 4,
 "nbformat_minor": 2
}
